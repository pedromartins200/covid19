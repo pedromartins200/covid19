{
 "cells": [
  {
   "cell_type": "code",
   "execution_count": 1,
   "metadata": {
    "pycharm": {
     "is_executing": false
    }
   },
   "outputs": [],
   "source": [
    "import pandas as pd\n",
    "import numpy as np\n",
    "from datetime import datetime,timedelta\n",
    "from sklearn.metrics import mean_squared_error\n",
    "from scipy.optimize import curve_fit\n",
    "from scipy.optimize import fsolve\n",
    "import matplotlib.pyplot as plt\n",
    "%matplotlib inline\n"
   ]
  },
  {
   "cell_type": "code",
   "execution_count": 2,
   "metadata": {
    "pycharm": {
     "is_executing": false
    }
   },
   "outputs": [
    {
     "data": {
      "text/plain": "                   data  casos\n0   2020-03-02 18:00:00      2\n1   2020-03-03 18:00:00      4\n2   2020-03-04 18:00:00      6\n3   2020-03-05 18:00:00      9\n4   2020-03-06 18:00:00     13\n5   2020-03-07 18:00:00     21\n6   2020-03-08 18:00:00     30\n7   2020-03-09 18:00:00     39\n8   2020-03-10 18:00:00     41\n9   2020-03-11 17:00:00     59\n10  2020-03-12 17:00:00     78\n11  2020-03-13 17:00:00    112\n12  2020-03-14 17:00:00    169\n13  2020-03-15 17:00:00    245\n14  2020-03-16 17:00:00    331\n15  2020-03-17 17:00:00    448\n16  2020-03-18 17:00:00    642\n17  2020-03-19 17:00:00    785\n18  2020-03-20 17:00:00   1020\n19  2020-03-21 17:00:00   1280\n20  2020-03-22 17:00:00   1600\n21  2020-03-23 17:00:00   2060\n22  2020-03-24 17:00:00   2362",
      "text/html": "<div>\n<style scoped>\n    .dataframe tbody tr th:only-of-type {\n        vertical-align: middle;\n    }\n\n    .dataframe tbody tr th {\n        vertical-align: top;\n    }\n\n    .dataframe thead th {\n        text-align: right;\n    }\n</style>\n<table border=\"1\" class=\"dataframe\">\n  <thead>\n    <tr style=\"text-align: right;\">\n      <th></th>\n      <th>data</th>\n      <th>casos</th>\n    </tr>\n  </thead>\n  <tbody>\n    <tr>\n      <th>0</th>\n      <td>2020-03-02 18:00:00</td>\n      <td>2</td>\n    </tr>\n    <tr>\n      <th>1</th>\n      <td>2020-03-03 18:00:00</td>\n      <td>4</td>\n    </tr>\n    <tr>\n      <th>2</th>\n      <td>2020-03-04 18:00:00</td>\n      <td>6</td>\n    </tr>\n    <tr>\n      <th>3</th>\n      <td>2020-03-05 18:00:00</td>\n      <td>9</td>\n    </tr>\n    <tr>\n      <th>4</th>\n      <td>2020-03-06 18:00:00</td>\n      <td>13</td>\n    </tr>\n    <tr>\n      <th>5</th>\n      <td>2020-03-07 18:00:00</td>\n      <td>21</td>\n    </tr>\n    <tr>\n      <th>6</th>\n      <td>2020-03-08 18:00:00</td>\n      <td>30</td>\n    </tr>\n    <tr>\n      <th>7</th>\n      <td>2020-03-09 18:00:00</td>\n      <td>39</td>\n    </tr>\n    <tr>\n      <th>8</th>\n      <td>2020-03-10 18:00:00</td>\n      <td>41</td>\n    </tr>\n    <tr>\n      <th>9</th>\n      <td>2020-03-11 17:00:00</td>\n      <td>59</td>\n    </tr>\n    <tr>\n      <th>10</th>\n      <td>2020-03-12 17:00:00</td>\n      <td>78</td>\n    </tr>\n    <tr>\n      <th>11</th>\n      <td>2020-03-13 17:00:00</td>\n      <td>112</td>\n    </tr>\n    <tr>\n      <th>12</th>\n      <td>2020-03-14 17:00:00</td>\n      <td>169</td>\n    </tr>\n    <tr>\n      <th>13</th>\n      <td>2020-03-15 17:00:00</td>\n      <td>245</td>\n    </tr>\n    <tr>\n      <th>14</th>\n      <td>2020-03-16 17:00:00</td>\n      <td>331</td>\n    </tr>\n    <tr>\n      <th>15</th>\n      <td>2020-03-17 17:00:00</td>\n      <td>448</td>\n    </tr>\n    <tr>\n      <th>16</th>\n      <td>2020-03-18 17:00:00</td>\n      <td>642</td>\n    </tr>\n    <tr>\n      <th>17</th>\n      <td>2020-03-19 17:00:00</td>\n      <td>785</td>\n    </tr>\n    <tr>\n      <th>18</th>\n      <td>2020-03-20 17:00:00</td>\n      <td>1020</td>\n    </tr>\n    <tr>\n      <th>19</th>\n      <td>2020-03-21 17:00:00</td>\n      <td>1280</td>\n    </tr>\n    <tr>\n      <th>20</th>\n      <td>2020-03-22 17:00:00</td>\n      <td>1600</td>\n    </tr>\n    <tr>\n      <th>21</th>\n      <td>2020-03-23 17:00:00</td>\n      <td>2060</td>\n    </tr>\n    <tr>\n      <th>22</th>\n      <td>2020-03-24 17:00:00</td>\n      <td>2362</td>\n    </tr>\n  </tbody>\n</table>\n</div>"
     },
     "metadata": {},
     "output_type": "execute_result",
     "execution_count": 2
    }
   ],
   "source": [
    "df = pd.read_csv(\"covid19.csv\")\n",
    "\n",
    "df"
   ]
  },
  {
   "cell_type": "code",
   "execution_count": 3,
   "metadata": {
    "pycharm": {
     "is_executing": false
    }
   },
   "outputs": [],
   "source": [
    "df = df.loc[:,['data','casos']]\n",
    "FMT = '%Y-%m-%d %H:%M:%S'\n",
    "date = df['data']\n",
    "df['data'] = date.map(lambda x : (datetime.strptime(x, FMT) - datetime.strptime(\"2020-03-01 00:00:00\", FMT)).days  )"
   ]
  },
  {
   "cell_type": "code",
   "execution_count": 4,
   "metadata": {
    "pycharm": {
     "is_executing": false
    }
   },
   "outputs": [],
   "source": [
    "def logistic_model(x,a,b,c):\n",
    "    return c/(1+np.exp(-(x-b)/a))"
   ]
  },
  {
   "cell_type": "code",
   "execution_count": 4,
   "metadata": {
    "pycharm": {
     "is_executing": false
    }
   },
   "outputs": [],
   "source": []
  },
  {
   "cell_type": "code",
   "execution_count": 5,
   "metadata": {
    "pycharm": {
     "is_executing": false
    }
   },
   "outputs": [],
   "source": [
    "x = list(df.iloc[:,0])\n",
    "y = list(df.iloc[:,1])\n",
    "fit = curve_fit(logistic_model,x,y,p0=[2,20,2000])"
   ]
  },
  {
   "cell_type": "code",
   "execution_count": 6,
   "metadata": {
    "pycharm": {
     "is_executing": false
    }
   },
   "outputs": [
    {
     "data": {
      "text/plain": "(array([3.06877653e+00, 2.29449728e+01, 4.72064977e+03]),\n array([[8.32400787e-03, 3.53857542e-02, 2.84113544e+01],\n        [3.53857542e-02, 1.68793290e-01, 1.38142071e+02],\n        [2.84113544e+01, 1.38142071e+02, 1.14011359e+05]]))"
     },
     "metadata": {},
     "output_type": "execute_result",
     "execution_count": 6
    }
   ],
   "source": [
    "fit\n"
   ]
  },
  {
   "cell_type": "code",
   "execution_count": 7,
   "metadata": {
    "pycharm": {
     "is_executing": false
    }
   },
   "outputs": [],
   "source": [
    "errors = [np.sqrt(fit[1][i][i]) for i in [0,1,2]]"
   ]
  },
  {
   "cell_type": "code",
   "execution_count": 8,
   "metadata": {
    "pycharm": {
     "is_executing": false
    }
   },
   "outputs": [
    {
     "data": {
      "text/plain": "[0.09123600095740513, 0.41084460597583, 337.655681715444]"
     },
     "metadata": {},
     "output_type": "execute_result",
     "execution_count": 8
    }
   ],
   "source": [
    "errors"
   ]
  },
  {
   "cell_type": "code",
   "execution_count": 9,
   "metadata": {
    "pycharm": {
     "is_executing": false
    }
   },
   "outputs": [],
   "source": [
    "a = fit[0][0]\n",
    "b = fit[0][1]\n",
    "c = fit[0][2]"
   ]
  },
  {
   "cell_type": "code",
   "execution_count": 10,
   "metadata": {
    "pycharm": {
     "is_executing": false
    }
   },
   "outputs": [],
   "source": [
    "sol = int(fsolve(lambda x : logistic_model(x,a,b,c) - int(c),b))"
   ]
  },
  {
   "cell_type": "code",
   "execution_count": 11,
   "metadata": {
    "pycharm": {
     "is_executing": false
    }
   },
   "outputs": [
    {
     "data": {
      "text/plain": "400.7332340157684"
     },
     "metadata": {},
     "output_type": "execute_result",
     "execution_count": 11
    }
   ],
   "source": [
    "y_pred_logistic = [logistic_model(i,fit[0][0],fit[0][1],fit[0][2]) for i in x]\n",
    "\n",
    "mean_squared_error(y,y_pred_logistic)\n"
   ]
  },
  {
   "cell_type": "code",
   "execution_count": 12,
   "metadata": {
    "pycharm": {
     "is_executing": false
    }
   },
   "outputs": [],
   "source": [
    "#def exponential_model(x,a,b,c):\n",
    "    #return a*np.exp(b*(x-c))\n",
    "#exp_fit = curve_fit(exponential_model,x,y,p0=[2,20,2000])"
   ]
  },
  {
   "cell_type": "code",
   "execution_count": 13,
   "metadata": {
    "pycharm": {
     "is_executing": false
    }
   },
   "outputs": [],
   "source": [
    "#exp_fit\n"
   ]
  },
  {
   "cell_type": "code",
   "execution_count": 14,
   "metadata": {
    "pycharm": {
     "is_executing": false
    }
   },
   "outputs": [
    {
     "data": {
      "text/plain": "<Figure size 504x504 with 1 Axes>",
      "image/png": "[encoded data removed]"
     },
     "metadata": {
      "needs_background": "light"
     },
     "output_type": "display_data"
    }
   ],
   "source": [
    "pred_x = list(range(max(x),sol))\n",
    "plt.rcParams['figure.figsize'] = [7, 7]\n",
    "plt.rc('font', size=14)\n",
    "# Real data\n",
    "plt.scatter(x,y,label=\"Dados Reais\",color=\"red\")\n",
    "# Predicted logistic curve\n",
    "plt.plot(x+pred_x, [logistic_model(i,fit[0][0],fit[0][1],fit[0][2]) for i in x+pred_x], label=\"Logistic model\" )\n",
    "plt.legend()\n",
    "plt.xlabel(\"Dias desde 2 Março 2020\")\n",
    "plt.ylabel(\"Numero de infetados\")\n",
    "plt.ylim(0, c*1.5)\n",
    "plt.title(\"Covid-19 Modelo Portugal\")\n",
    "plt.show()"
   ]
  },
  {
   "cell_type": "code",
   "execution_count": 15,
   "metadata": {
    "pycharm": {
     "is_executing": false
    }
   },
   "outputs": [
    {
     "data": {
      "text/plain": "'End of pandemic predicted at: 21, Apr 2020'"
     },
     "metadata": {},
     "output_type": "execute_result",
     "execution_count": 15
    }
   ],
   "source": [
    "from datetime import timedelta, date\n",
    "final = datetime.strptime(\"2020-03-02 00:00:00\", FMT) + timedelta(days=sol)\n",
    "final.strftime('End of pandemic predicted at: %d, %b %Y')"
   ]
  },
  {
   "cell_type": "code",
   "execution_count": 15,
   "metadata": {
    "pycharm": {
     "is_executing": false
    }
   },
   "outputs": [],
   "source": []
  },
  {
   "cell_type": "code",
   "execution_count": 15,
   "metadata": {
    "pycharm": {
     "is_executing": false
    }
   },
   "outputs": [],
   "source": []
  }
 ],
 "metadata": {
  "kernelspec": {
   "display_name": "Python 3",
   "language": "python",
   "name": "python3"
  },
  "language_info": {
   "codemirror_mode": {
    "name": "ipython",
    "version": 3
   },
   "file_extension": ".py",
   "mimetype": "text/x-python",
   "name": "python",
   "nbconvert_exporter": "python",
   "pygments_lexer": "ipython3",
   "version": "3.7.4"
  }
 },
 "nbformat": 4,
 "nbformat_minor": 1
}